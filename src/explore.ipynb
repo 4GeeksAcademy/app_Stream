{
    "cells": [
        {
            "cell_type": "markdown",
            "metadata": {},
            "source": [
                "# Explore here"
            ]
        },
        {
            "cell_type": "code",
            "execution_count": 1,
            "metadata": {},
            "outputs": [
                {
                    "data": {
                        "text/html": [
                            "<div>\n",
                            "<style scoped>\n",
                            "    .dataframe tbody tr th:only-of-type {\n",
                            "        vertical-align: middle;\n",
                            "    }\n",
                            "\n",
                            "    .dataframe tbody tr th {\n",
                            "        vertical-align: top;\n",
                            "    }\n",
                            "\n",
                            "    .dataframe thead th {\n",
                            "        text-align: right;\n",
                            "    }\n",
                            "</style>\n",
                            "<table border=\"1\" class=\"dataframe\">\n",
                            "  <thead>\n",
                            "    <tr style=\"text-align: right;\">\n",
                            "      <th></th>\n",
                            "      <th>Name</th>\n",
                            "      <th>Age</th>\n",
                            "      <th>Gender</th>\n",
                            "      <th>Admission Test Score</th>\n",
                            "      <th>High School Percentage</th>\n",
                            "      <th>City</th>\n",
                            "      <th>Admission Status</th>\n",
                            "    </tr>\n",
                            "  </thead>\n",
                            "  <tbody>\n",
                            "    <tr>\n",
                            "      <th>0</th>\n",
                            "      <td>Shehroz</td>\n",
                            "      <td>24.0</td>\n",
                            "      <td>Female</td>\n",
                            "      <td>50.0</td>\n",
                            "      <td>68.90</td>\n",
                            "      <td>Quetta</td>\n",
                            "      <td>Rejected</td>\n",
                            "    </tr>\n",
                            "    <tr>\n",
                            "      <th>1</th>\n",
                            "      <td>Waqar</td>\n",
                            "      <td>21.0</td>\n",
                            "      <td>Female</td>\n",
                            "      <td>99.0</td>\n",
                            "      <td>60.73</td>\n",
                            "      <td>Karachi</td>\n",
                            "      <td>NaN</td>\n",
                            "    </tr>\n",
                            "    <tr>\n",
                            "      <th>2</th>\n",
                            "      <td>Bushra</td>\n",
                            "      <td>17.0</td>\n",
                            "      <td>Male</td>\n",
                            "      <td>89.0</td>\n",
                            "      <td>NaN</td>\n",
                            "      <td>Islamabad</td>\n",
                            "      <td>Accepted</td>\n",
                            "    </tr>\n",
                            "    <tr>\n",
                            "      <th>3</th>\n",
                            "      <td>Aliya</td>\n",
                            "      <td>17.0</td>\n",
                            "      <td>Male</td>\n",
                            "      <td>55.0</td>\n",
                            "      <td>85.29</td>\n",
                            "      <td>Karachi</td>\n",
                            "      <td>Rejected</td>\n",
                            "    </tr>\n",
                            "    <tr>\n",
                            "      <th>4</th>\n",
                            "      <td>Bilal</td>\n",
                            "      <td>20.0</td>\n",
                            "      <td>Male</td>\n",
                            "      <td>65.0</td>\n",
                            "      <td>61.13</td>\n",
                            "      <td>Lahore</td>\n",
                            "      <td>NaN</td>\n",
                            "    </tr>\n",
                            "  </tbody>\n",
                            "</table>\n",
                            "</div>"
                        ],
                        "text/plain": [
                            "      Name   Age  Gender  Admission Test Score  High School Percentage  \\\n",
                            "0  Shehroz  24.0  Female                  50.0                   68.90   \n",
                            "1    Waqar  21.0  Female                  99.0                   60.73   \n",
                            "2   Bushra  17.0    Male                  89.0                     NaN   \n",
                            "3    Aliya  17.0    Male                  55.0                   85.29   \n",
                            "4    Bilal  20.0    Male                  65.0                   61.13   \n",
                            "\n",
                            "        City Admission Status  \n",
                            "0     Quetta         Rejected  \n",
                            "1    Karachi              NaN  \n",
                            "2  Islamabad         Accepted  \n",
                            "3    Karachi         Rejected  \n",
                            "4     Lahore              NaN  "
                        ]
                    },
                    "execution_count": 1,
                    "metadata": {},
                    "output_type": "execute_result"
                }
            ],
            "source": [
                "import pandas as pd\n",
                "\n",
                "total_data = pd.read_csv(\"/workspaces/app_Stream/data/student_admission_record_dirty.csv\")\n",
                "total_data.head()"
            ]
        },
        {
            "cell_type": "code",
            "execution_count": 2,
            "metadata": {},
            "outputs": [
                {
                    "name": "stdout",
                    "output_type": "stream",
                    "text": [
                        "<class 'pandas.core.frame.DataFrame'>\n",
                        "RangeIndex: 157 entries, 0 to 156\n",
                        "Data columns (total 7 columns):\n",
                        " #   Column                  Non-Null Count  Dtype  \n",
                        "---  ------                  --------------  -----  \n",
                        " 0   Name                    147 non-null    object \n",
                        " 1   Age                     147 non-null    float64\n",
                        " 2   Gender                  147 non-null    object \n",
                        " 3   Admission Test Score    146 non-null    float64\n",
                        " 4   High School Percentage  146 non-null    float64\n",
                        " 5   City                    147 non-null    object \n",
                        " 6   Admission Status        147 non-null    object \n",
                        "dtypes: float64(3), object(4)\n",
                        "memory usage: 8.7+ KB\n"
                    ]
                }
            ],
            "source": [
                "total_data.info()"
            ]
        },
        {
            "cell_type": "code",
            "execution_count": 3,
            "metadata": {},
            "outputs": [
                {
                    "data": {
                        "text/plain": [
                            "(157, 7)"
                        ]
                    },
                    "execution_count": 3,
                    "metadata": {},
                    "output_type": "execute_result"
                }
            ],
            "source": [
                "total_data.shape"
            ]
        },
        {
            "cell_type": "code",
            "execution_count": 4,
            "metadata": {},
            "outputs": [
                {
                    "name": "stdout",
                    "output_type": "stream",
                    "text": [
                        "(151, 7)\n"
                    ]
                },
                {
                    "data": {
                        "text/html": [
                            "<div>\n",
                            "<style scoped>\n",
                            "    .dataframe tbody tr th:only-of-type {\n",
                            "        vertical-align: middle;\n",
                            "    }\n",
                            "\n",
                            "    .dataframe tbody tr th {\n",
                            "        vertical-align: top;\n",
                            "    }\n",
                            "\n",
                            "    .dataframe thead th {\n",
                            "        text-align: right;\n",
                            "    }\n",
                            "</style>\n",
                            "<table border=\"1\" class=\"dataframe\">\n",
                            "  <thead>\n",
                            "    <tr style=\"text-align: right;\">\n",
                            "      <th></th>\n",
                            "      <th>Name</th>\n",
                            "      <th>Age</th>\n",
                            "      <th>Gender</th>\n",
                            "      <th>Admission Test Score</th>\n",
                            "      <th>High School Percentage</th>\n",
                            "      <th>City</th>\n",
                            "      <th>Admission Status</th>\n",
                            "    </tr>\n",
                            "  </thead>\n",
                            "  <tbody>\n",
                            "    <tr>\n",
                            "      <th>0</th>\n",
                            "      <td>Shehroz</td>\n",
                            "      <td>24.0</td>\n",
                            "      <td>Female</td>\n",
                            "      <td>50.0</td>\n",
                            "      <td>68.90</td>\n",
                            "      <td>Quetta</td>\n",
                            "      <td>Rejected</td>\n",
                            "    </tr>\n",
                            "    <tr>\n",
                            "      <th>1</th>\n",
                            "      <td>Waqar</td>\n",
                            "      <td>21.0</td>\n",
                            "      <td>Female</td>\n",
                            "      <td>99.0</td>\n",
                            "      <td>60.73</td>\n",
                            "      <td>Karachi</td>\n",
                            "      <td>NaN</td>\n",
                            "    </tr>\n",
                            "    <tr>\n",
                            "      <th>2</th>\n",
                            "      <td>Bushra</td>\n",
                            "      <td>17.0</td>\n",
                            "      <td>Male</td>\n",
                            "      <td>89.0</td>\n",
                            "      <td>NaN</td>\n",
                            "      <td>Islamabad</td>\n",
                            "      <td>Accepted</td>\n",
                            "    </tr>\n",
                            "    <tr>\n",
                            "      <th>3</th>\n",
                            "      <td>Aliya</td>\n",
                            "      <td>17.0</td>\n",
                            "      <td>Male</td>\n",
                            "      <td>55.0</td>\n",
                            "      <td>85.29</td>\n",
                            "      <td>Karachi</td>\n",
                            "      <td>Rejected</td>\n",
                            "    </tr>\n",
                            "    <tr>\n",
                            "      <th>4</th>\n",
                            "      <td>Bilal</td>\n",
                            "      <td>20.0</td>\n",
                            "      <td>Male</td>\n",
                            "      <td>65.0</td>\n",
                            "      <td>61.13</td>\n",
                            "      <td>Lahore</td>\n",
                            "      <td>NaN</td>\n",
                            "    </tr>\n",
                            "  </tbody>\n",
                            "</table>\n",
                            "</div>"
                        ],
                        "text/plain": [
                            "      Name   Age  Gender  Admission Test Score  High School Percentage  \\\n",
                            "0  Shehroz  24.0  Female                  50.0                   68.90   \n",
                            "1    Waqar  21.0  Female                  99.0                   60.73   \n",
                            "2   Bushra  17.0    Male                  89.0                     NaN   \n",
                            "3    Aliya  17.0    Male                  55.0                   85.29   \n",
                            "4    Bilal  20.0    Male                  65.0                   61.13   \n",
                            "\n",
                            "        City Admission Status  \n",
                            "0     Quetta         Rejected  \n",
                            "1    Karachi              NaN  \n",
                            "2  Islamabad         Accepted  \n",
                            "3    Karachi         Rejected  \n",
                            "4     Lahore              NaN  "
                        ]
                    },
                    "execution_count": 4,
                    "metadata": {},
                    "output_type": "execute_result"
                }
            ],
            "source": [
                "if total_data.duplicated().sum():\n",
                "    total_data = total_data.drop_duplicates()\n",
                "print(total_data.shape)\n",
                "total_data.head()"
            ]
        },
        {
            "cell_type": "code",
            "execution_count": 5,
            "metadata": {},
            "outputs": [
                {
                    "data": {
                        "text/html": [
                            "<div>\n",
                            "<style scoped>\n",
                            "    .dataframe tbody tr th:only-of-type {\n",
                            "        vertical-align: middle;\n",
                            "    }\n",
                            "\n",
                            "    .dataframe tbody tr th {\n",
                            "        vertical-align: top;\n",
                            "    }\n",
                            "\n",
                            "    .dataframe thead th {\n",
                            "        text-align: right;\n",
                            "    }\n",
                            "</style>\n",
                            "<table border=\"1\" class=\"dataframe\">\n",
                            "  <thead>\n",
                            "    <tr style=\"text-align: right;\">\n",
                            "      <th></th>\n",
                            "      <th>Age</th>\n",
                            "      <th>Gender</th>\n",
                            "      <th>Admission Test Score</th>\n",
                            "      <th>High School Percentage</th>\n",
                            "      <th>Admission Status</th>\n",
                            "    </tr>\n",
                            "  </thead>\n",
                            "  <tbody>\n",
                            "    <tr>\n",
                            "      <th>0</th>\n",
                            "      <td>24.0</td>\n",
                            "      <td>Female</td>\n",
                            "      <td>50.0</td>\n",
                            "      <td>68.90</td>\n",
                            "      <td>Rejected</td>\n",
                            "    </tr>\n",
                            "    <tr>\n",
                            "      <th>1</th>\n",
                            "      <td>21.0</td>\n",
                            "      <td>Female</td>\n",
                            "      <td>99.0</td>\n",
                            "      <td>60.73</td>\n",
                            "      <td>NaN</td>\n",
                            "    </tr>\n",
                            "    <tr>\n",
                            "      <th>2</th>\n",
                            "      <td>17.0</td>\n",
                            "      <td>Male</td>\n",
                            "      <td>89.0</td>\n",
                            "      <td>NaN</td>\n",
                            "      <td>Accepted</td>\n",
                            "    </tr>\n",
                            "    <tr>\n",
                            "      <th>3</th>\n",
                            "      <td>17.0</td>\n",
                            "      <td>Male</td>\n",
                            "      <td>55.0</td>\n",
                            "      <td>85.29</td>\n",
                            "      <td>Rejected</td>\n",
                            "    </tr>\n",
                            "    <tr>\n",
                            "      <th>4</th>\n",
                            "      <td>20.0</td>\n",
                            "      <td>Male</td>\n",
                            "      <td>65.0</td>\n",
                            "      <td>61.13</td>\n",
                            "      <td>NaN</td>\n",
                            "    </tr>\n",
                            "  </tbody>\n",
                            "</table>\n",
                            "</div>"
                        ],
                        "text/plain": [
                            "    Age  Gender  Admission Test Score  High School Percentage Admission Status\n",
                            "0  24.0  Female                  50.0                   68.90         Rejected\n",
                            "1  21.0  Female                  99.0                   60.73              NaN\n",
                            "2  17.0    Male                  89.0                     NaN         Accepted\n",
                            "3  17.0    Male                  55.0                   85.29         Rejected\n",
                            "4  20.0    Male                  65.0                   61.13              NaN"
                        ]
                    },
                    "execution_count": 5,
                    "metadata": {},
                    "output_type": "execute_result"
                }
            ],
            "source": [
                "total_data.drop([\"Name\", \"City\"], axis = 1, inplace = True)\n",
                "total_data.head()"
            ]
        },
        {
            "cell_type": "code",
            "execution_count": 6,
            "metadata": {},
            "outputs": [
                {
                    "data": {
                        "text/plain": [
                            "Admission Test Score      11\n",
                            "High School Percentage    11\n",
                            "Age                       10\n",
                            "Gender                    10\n",
                            "Admission Status          10\n",
                            "dtype: int64"
                        ]
                    },
                    "execution_count": 6,
                    "metadata": {},
                    "output_type": "execute_result"
                }
            ],
            "source": [
                "total_data.isnull().sum().sort_values(ascending=False)"
            ]
        },
        {
            "cell_type": "code",
            "execution_count": 8,
            "metadata": {},
            "outputs": [
                {
                    "name": "stderr",
                    "output_type": "stream",
                    "text": [
                        "/tmp/ipykernel_8535/2237417101.py:3: FutureWarning: A value is trying to be set on a copy of a DataFrame or Series through chained assignment using an inplace method.\n",
                        "The behavior will change in pandas 3.0. This inplace method will never work because the intermediate object on which we are setting values always behaves as a copy.\n",
                        "\n",
                        "For example, when doing 'df[col].method(value, inplace=True)', try using 'df.method({col: value}, inplace=True)' or df[col] = df[col].method(value) instead, to perform the operation inplace on the original object.\n",
                        "\n",
                        "\n",
                        "  total_data[\"Admission Test Score\"].fillna(total_data[\"Admission Test Score\"].median(), inplace=True)\n",
                        "/tmp/ipykernel_8535/2237417101.py:4: FutureWarning: A value is trying to be set on a copy of a DataFrame or Series through chained assignment using an inplace method.\n",
                        "The behavior will change in pandas 3.0. This inplace method will never work because the intermediate object on which we are setting values always behaves as a copy.\n",
                        "\n",
                        "For example, when doing 'df[col].method(value, inplace=True)', try using 'df.method({col: value}, inplace=True)' or df[col] = df[col].method(value) instead, to perform the operation inplace on the original object.\n",
                        "\n",
                        "\n",
                        "  total_data[\"High School Percentage\"].fillna(total_data[\"High School Percentage\"].mode()[0], inplace=True)\n",
                        "/tmp/ipykernel_8535/2237417101.py:5: FutureWarning: A value is trying to be set on a copy of a DataFrame or Series through chained assignment using an inplace method.\n",
                        "The behavior will change in pandas 3.0. This inplace method will never work because the intermediate object on which we are setting values always behaves as a copy.\n",
                        "\n",
                        "For example, when doing 'df[col].method(value, inplace=True)', try using 'df.method({col: value}, inplace=True)' or df[col] = df[col].method(value) instead, to perform the operation inplace on the original object.\n",
                        "\n",
                        "\n",
                        "  total_data[\"Gender\"].fillna(total_data[\"Gender\"].mode()[0], inplace=True)\n",
                        "/tmp/ipykernel_8535/2237417101.py:6: FutureWarning: A value is trying to be set on a copy of a DataFrame or Series through chained assignment using an inplace method.\n",
                        "The behavior will change in pandas 3.0. This inplace method will never work because the intermediate object on which we are setting values always behaves as a copy.\n",
                        "\n",
                        "For example, when doing 'df[col].method(value, inplace=True)', try using 'df.method({col: value}, inplace=True)' or df[col] = df[col].method(value) instead, to perform the operation inplace on the original object.\n",
                        "\n",
                        "\n",
                        "  total_data[\"Age\"].fillna(total_data[\"Age\"].mode()[0], inplace=True)\n",
                        "/tmp/ipykernel_8535/2237417101.py:7: FutureWarning: A value is trying to be set on a copy of a DataFrame or Series through chained assignment using an inplace method.\n",
                        "The behavior will change in pandas 3.0. This inplace method will never work because the intermediate object on which we are setting values always behaves as a copy.\n",
                        "\n",
                        "For example, when doing 'df[col].method(value, inplace=True)', try using 'df.method({col: value}, inplace=True)' or df[col] = df[col].method(value) instead, to perform the operation inplace on the original object.\n",
                        "\n",
                        "\n",
                        "  total_data[\"Admission Status\"].fillna(total_data[\"Admission Status\"].mode()[0], inplace=True)\n"
                    ]
                }
            ],
            "source": [
                "\n",
                "total_data.columns = total_data.columns.str.strip()\n",
                "\n",
                "total_data[\"Admission Test Score\"].fillna(total_data[\"Admission Test Score\"].median(), inplace=True)\n",
                "total_data[\"High School Percentage\"].fillna(total_data[\"High School Percentage\"].mode()[0], inplace=True)\n",
                "total_data[\"Gender\"].fillna(total_data[\"Gender\"].mode()[0], inplace=True)  \n",
                "total_data[\"Age\"].fillna(total_data[\"Age\"].mode()[0], inplace=True)\n",
                "total_data[\"Admission Status\"].fillna(total_data[\"Admission Status\"].mode()[0], inplace=True)  \n",
                "   "
            ]
        },
        {
            "cell_type": "code",
            "execution_count": 9,
            "metadata": {},
            "outputs": [
                {
                    "name": "stdout",
                    "output_type": "stream",
                    "text": [
                        "<class 'pandas.core.frame.DataFrame'>\n",
                        "Index: 151 entries, 0 to 156\n",
                        "Data columns (total 5 columns):\n",
                        " #   Column                  Non-Null Count  Dtype  \n",
                        "---  ------                  --------------  -----  \n",
                        " 0   Age                     151 non-null    float64\n",
                        " 1   Gender                  151 non-null    object \n",
                        " 2   Admission Test Score    151 non-null    float64\n",
                        " 3   High School Percentage  151 non-null    float64\n",
                        " 4   Admission Status        151 non-null    object \n",
                        "dtypes: float64(3), object(2)\n",
                        "memory usage: 7.1+ KB\n"
                    ]
                }
            ],
            "source": [
                "total_data.info()"
            ]
        },
        {
            "cell_type": "code",
            "execution_count": null,
            "metadata": {},
            "outputs": [],
            "source": [
                "\n",
                "df['Name'] = pd.to_numeric(df['Name'], errors='coerce')"
            ]
        },
        {
            "cell_type": "code",
            "execution_count": null,
            "metadata": {},
            "outputs": [],
            "source": [
                "df['Gender'] = pd.to_numeric(df['Gender'], errors='coerce')\n",
                "df['City'] = pd.to_numeric(df['City'], errors='coerce')\n",
                "df['Admission Status'] = pd.to_numeric(df['Admission Status'], errors='coerce')"
            ]
        },
        {
            "cell_type": "code",
            "execution_count": null,
            "metadata": {},
            "outputs": [],
            "source": [
                "df.info()"
            ]
        },
        {
            "cell_type": "code",
            "execution_count": null,
            "metadata": {},
            "outputs": [],
            "source": [
                "df[\"Name_n\"] = pd.factorize(df[\"Name\"])[0]\n",
                "df[\"Gender_n\"] = pd.factorize(df[\"Gender\"])[0]\n",
                "df[\"City_n\"] = pd.factorize(df[\"City\"])[0]\n",
                "df[\"Admission Status_n\"] = pd.factorize(df[\"Admission Status\"])[0]"
            ]
        },
        {
            "cell_type": "code",
            "execution_count": null,
            "metadata": {},
            "outputs": [],
            "source": [
                "df.head()"
            ]
        },
        {
            "cell_type": "code",
            "execution_count": null,
            "metadata": {},
            "outputs": [],
            "source": [
                "df = df.drop(columns=[\"Name\", \"Gender\", \"City\", \"Admission Status\"])"
            ]
        },
        {
            "cell_type": "code",
            "execution_count": null,
            "metadata": {},
            "outputs": [],
            "source": [
                "df = df.drop(columns=[\"Name_n\", \"City_n\"])"
            ]
        },
        {
            "cell_type": "code",
            "execution_count": null,
            "metadata": {},
            "outputs": [],
            "source": [
                "df.head()"
            ]
        },
        {
            "cell_type": "code",
            "execution_count": null,
            "metadata": {},
            "outputs": [],
            "source": [
                "from sklearn.model_selection import train_test_split\n",
                "\n",
                "num_variables = [\"Age\", \"Gender_n\", \"Admission Test Score\", \"High School Percentage\"]\n",
                "\n",
                "# Dividimos el conjunto de datos en muestras de train y test\n",
                "X = df.drop(\"Admission Status_n\", axis = 1)[num_variables]\n",
                "y = df[\"Admission Status_n\"]\n",
                "\n",
                "X_train, X_test, y_train, y_test = train_test_split(X, y, test_size = 0.2, random_state = 42)\n",
                "\n",
                "X_train.head()"
            ]
        },
        {
            "cell_type": "code",
            "execution_count": null,
            "metadata": {},
            "outputs": [],
            "source": [
                "from sklearn.preprocessing import StandardScaler\n",
                "\n",
                "scaler = StandardScaler()\n",
                "scaler.fit(X_train)\n",
                "\n",
                "X_train_norm = scaler.transform(X_train)\n",
                "X_train_norm = pd.DataFrame(X_train_norm, index = X_train.index, columns = num_variables)\n",
                "\n",
                "X_test_norm = scaler.transform(X_test)\n",
                "X_test_norm = pd.DataFrame(X_test_norm, index = X_test.index, columns = num_variables)\n",
                "\n",
                "X_train_norm.head()"
            ]
        },
        {
            "cell_type": "code",
            "execution_count": null,
            "metadata": {},
            "outputs": [],
            "source": [
                "x_train = X_train_norm\n",
                "x_test = X_test_norm"
            ]
        },
        {
            "cell_type": "code",
            "execution_count": null,
            "metadata": {},
            "outputs": [],
            "source": [
                "from sklearn.tree import DecisionTreeClassifier\n",
                "\n",
                "model = DecisionTreeClassifier()\n",
                "model.fit(x_train, y_train)"
            ]
        },
        {
            "cell_type": "code",
            "execution_count": null,
            "metadata": {},
            "outputs": [],
            "source": [
                "y_pred = model.predict(x_test)"
            ]
        },
        {
            "cell_type": "code",
            "execution_count": null,
            "metadata": {},
            "outputs": [],
            "source": [
                "import matplotlib.pyplot as plt\n",
                "from sklearn import tree\n",
                "\n",
                "fig = plt.figure(figsize=(10,10))\n",
                "\n",
                "tree.plot_tree(model, feature_names = list(x_train.columns), class_names = [\"Name_n\", \"Age\", \"Gender_n\", \"Admission Test Score\", \"High School Percentage\", \"City_n\"], filled = True)\n",
                "\n",
                "plt.show()"
            ]
        },
        {
            "cell_type": "code",
            "execution_count": null,
            "metadata": {},
            "outputs": [],
            "source": [
                "Y_pred = model.predict(x_test)\n",
                "Y_pred"
            ]
        },
        {
            "cell_type": "code",
            "execution_count": null,
            "metadata": {},
            "outputs": [],
            "source": [
                "from sklearn.metrics import accuracy_score\n",
                "\n",
                "accuracy_score(y_test, Y_pred)"
            ]
        },
        {
            "cell_type": "code",
            "execution_count": null,
            "metadata": {},
            "outputs": [],
            "source": [
                "### Profundidad del árbol\n",
                "model.get_depth()"
            ]
        },
        {
            "cell_type": "code",
            "execution_count": null,
            "metadata": {},
            "outputs": [],
            "source": [
                "### Número de hojas\n",
                "model.get_n_leaves()"
            ]
        },
        {
            "cell_type": "code",
            "execution_count": null,
            "metadata": {},
            "outputs": [],
            "source": [
                "from pickle import dump\n",
                "\n",
                "dump(model, open(\"../models/decision_tree_classifier_default_42.sav\", \"wb\"))"
            ]
        }
    ],
    "metadata": {
        "kernelspec": {
            "display_name": ".venv",
            "language": "python",
            "name": "python3"
        },
        "language_info": {
            "codemirror_mode": {
                "name": "ipython",
                "version": 3
            },
            "file_extension": ".py",
            "mimetype": "text/x-python",
            "name": "python",
            "nbconvert_exporter": "python",
            "pygments_lexer": "ipython3",
            "version": "3.11.4"
        },
        "orig_nbformat": 4
    },
    "nbformat": 4,
    "nbformat_minor": 2
}
